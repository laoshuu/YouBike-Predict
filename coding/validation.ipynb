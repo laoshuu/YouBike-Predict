{
 "cells": [
  {
   "cell_type": "code",
   "execution_count": 1,
   "metadata": {},
   "outputs": [],
   "source": [
    "import numpy as np\n",
    "import pandas as pd\n",
    "from datetime import datetime, timedelta\n",
    "import os\n",
    "import json\n",
    "from train_and_test import *\n"
   ]
  },
  {
   "cell_type": "code",
   "execution_count": 3,
   "metadata": {},
   "outputs": [
    {
     "data": {
      "text/html": [
       "<div>\n",
       "<style scoped>\n",
       "    .dataframe tbody tr th:only-of-type {\n",
       "        vertical-align: middle;\n",
       "    }\n",
       "\n",
       "    .dataframe tbody tr th {\n",
       "        vertical-align: top;\n",
       "    }\n",
       "\n",
       "    .dataframe thead th {\n",
       "        text-align: right;\n",
       "    }\n",
       "</style>\n",
       "<table border=\"1\" class=\"dataframe\">\n",
       "  <thead>\n",
       "    <tr style=\"text-align: right;\">\n",
       "      <th></th>\n",
       "      <th>id</th>\n",
       "      <th>sbi</th>\n",
       "    </tr>\n",
       "  </thead>\n",
       "  <tbody>\n",
       "    <tr>\n",
       "      <th>88699</th>\n",
       "      <td>20231210_500119091_22:20</td>\n",
       "      <td>1.0</td>\n",
       "    </tr>\n",
       "    <tr>\n",
       "      <th>88700</th>\n",
       "      <td>20231210_500119091_22:40</td>\n",
       "      <td>1.0</td>\n",
       "    </tr>\n",
       "    <tr>\n",
       "      <th>88701</th>\n",
       "      <td>20231210_500119091_23:00</td>\n",
       "      <td>1.0</td>\n",
       "    </tr>\n",
       "    <tr>\n",
       "      <th>88702</th>\n",
       "      <td>20231210_500119091_23:20</td>\n",
       "      <td>1.0</td>\n",
       "    </tr>\n",
       "    <tr>\n",
       "      <th>88703</th>\n",
       "      <td>20231210_500119091_23:40</td>\n",
       "      <td>1.0</td>\n",
       "    </tr>\n",
       "  </tbody>\n",
       "</table>\n",
       "</div>"
      ],
      "text/plain": [
       "                             id  sbi\n",
       "88699  20231210_500119091_22:20  1.0\n",
       "88700  20231210_500119091_22:40  1.0\n",
       "88701  20231210_500119091_23:00  1.0\n",
       "88702  20231210_500119091_23:20  1.0\n",
       "88703  20231210_500119091_23:40  1.0"
      ]
     },
     "execution_count": 3,
     "metadata": {},
     "output_type": "execute_result"
    }
   ],
   "source": [
    "df = pd.read_csv('../data/sample_submission.csv')\n",
    "df.head()\n",
    "df.tail()"
   ]
  },
  {
   "cell_type": "code",
   "execution_count": 4,
   "metadata": {},
   "outputs": [],
   "source": [
    "test_station = sorted(set([df[\"id\"][i].split(\"_\")[1] for i in range(len(df))]))"
   ]
  },
  {
   "cell_type": "code",
   "execution_count": 2,
   "metadata": {},
   "outputs": [],
   "source": [
    "def get_data(start_date, end_date):\n",
    "    # get data from \"release\"\n",
    "    start_date = datetime.strptime(start_date, \"%Y%m%d\")\n",
    "    end_date = datetime.strptime(end_date, \"%Y%m%d\")\n",
    "\n",
    "    # Iterate through the range of dates\n",
    "    data_path = \"../..//html.2023.final.data/release/\"\n",
    "    test_data_dic = {}\n",
    "    current_date = start_date\n",
    "    while current_date <= end_date:\n",
    "        folder_path = os.path.join(data_path, current_date.strftime(\"%Y%m%d\"))\n",
    "        for station in test_station:\n",
    "            file_path = os.path.join(folder_path, station) + \".json\"\n",
    "            with open(file_path, 'r') as f:\n",
    "                file = json.load(f)\n",
    "                current_time = datetime.strptime(\"00:00\", \"%H:%M\")\n",
    "                end_time = datetime.strptime(\"23:59\", \"%H:%M\")\n",
    "                while current_time <= end_time:\n",
    "                    time = current_time\n",
    "                    while file[time.strftime(\"%H:%M\")] == {}:\n",
    "                        time += timedelta(minutes=1)\n",
    "                    key = current_date.strftime(\"%Y%m%d\") + \"_\" + station + \"_\" + current_time.strftime(\"%H:%M\")\n",
    "                    value = file[time.strftime(\"%H:%M\")]\n",
    "                    test_data_dic[key] = value\n",
    "                    current_time += timedelta(minutes=20)\n",
    "        current_date += timedelta(days=1)\n",
    "    return test_data_dic"
   ]
  },
  {
   "cell_type": "code",
   "execution_count": 3,
   "metadata": {},
   "outputs": [],
   "source": [
    "def validation(start_date, end_date, submission):\n",
    "    ans = get_data(start_date, end_date)\n",
    "    private_index = get_test_index(start_date, end_date)\n",
    "    public_index = get_test_index(\"20231021\", \"20231024\")\n",
    "    sub = dict(zip(submission['id'], submission['sbi']))\n",
    "    if set(private_index + public_index) != set(sub.keys()):\n",
    "        raise ValueError(\"Dictionaries do not have the same keys.\")\n",
    "\n",
    "    E_val = []\n",
    "    try: \n",
    "        for key in private_index:\n",
    "            b_it = ans[key][\"sbi\"]\n",
    "            b_it_pred = sub[key]\n",
    "            s_i = ans[key][\"tot\"]\n",
    "            E_val.append(3 * abs((b_it -  b_it_pred) / s_i) * (abs(b_it / s_i - 1 / 3) + abs(b_it / s_i - 2 / 3)))\n",
    "    except: \n",
    "        raise ValueError(\"Inappropriate value detected.\")\n",
    "        \n",
    "    return np.average(E_val)"
   ]
  },
  {
   "cell_type": "code",
   "execution_count": 4,
   "metadata": {},
   "outputs": [],
   "source": [
    "def aggregation(start_date, end_date, sub1, sub2, agg_1, agg_2):\n",
    "    ans = get_data(start_date, end_date)\n",
    "    private_index = get_test_index(start_date, end_date)\n",
    "    sub1 = dict(zip(sub1['id'], sub1['sbi']))\n",
    "    sub2 = dict(zip(sub2['id'], sub2['sbi']))\n",
    "    E_val = []\n",
    "    for key in private_index:\n",
    "        b_it = ans[key][\"sbi\"]\n",
    "        b_it_pred = sub1[key] * agg_1 + sub2[key] * agg_2\n",
    "        s_i = ans[key][\"tot\"]\n",
    "        E_val.append(3 * abs((b_it -  b_it_pred) / s_i) * (abs(b_it / s_i - 1 / 3) + abs(b_it / s_i - 2 / 3)))\n",
    "    return np.average(E_val)"
   ]
  },
  {
   "cell_type": "markdown",
   "metadata": {},
   "source": [
    "### Ryan"
   ]
  },
  {
   "cell_type": "code",
   "execution_count": 28,
   "metadata": {},
   "outputs": [
    {
     "data": {
      "text/html": [
       "<div>\n",
       "<style scoped>\n",
       "    .dataframe tbody tr th:only-of-type {\n",
       "        vertical-align: middle;\n",
       "    }\n",
       "\n",
       "    .dataframe tbody tr th {\n",
       "        vertical-align: top;\n",
       "    }\n",
       "\n",
       "    .dataframe thead th {\n",
       "        text-align: right;\n",
       "    }\n",
       "</style>\n",
       "<table border=\"1\" class=\"dataframe\">\n",
       "  <thead>\n",
       "    <tr style=\"text-align: right;\">\n",
       "      <th></th>\n",
       "      <th>id</th>\n",
       "      <th>sbi</th>\n",
       "    </tr>\n",
       "  </thead>\n",
       "  <tbody>\n",
       "    <tr>\n",
       "      <th>0</th>\n",
       "      <td>20231123_500101001_00:00</td>\n",
       "      <td>12.762881</td>\n",
       "    </tr>\n",
       "    <tr>\n",
       "      <th>1</th>\n",
       "      <td>20231123_500101001_00:20</td>\n",
       "      <td>10.162225</td>\n",
       "    </tr>\n",
       "    <tr>\n",
       "      <th>2</th>\n",
       "      <td>20231123_500101001_00:40</td>\n",
       "      <td>9.641389</td>\n",
       "    </tr>\n",
       "    <tr>\n",
       "      <th>3</th>\n",
       "      <td>20231123_500101001_01:00</td>\n",
       "      <td>7.450892</td>\n",
       "    </tr>\n",
       "    <tr>\n",
       "      <th>4</th>\n",
       "      <td>20231123_500101001_01:20</td>\n",
       "      <td>7.783185</td>\n",
       "    </tr>\n",
       "    <tr>\n",
       "      <th>...</th>\n",
       "      <td>...</td>\n",
       "      <td>...</td>\n",
       "    </tr>\n",
       "    <tr>\n",
       "      <th>88699</th>\n",
       "      <td>20231024_500119091_22:20</td>\n",
       "      <td>1.725183</td>\n",
       "    </tr>\n",
       "    <tr>\n",
       "      <th>88700</th>\n",
       "      <td>20231024_500119091_22:40</td>\n",
       "      <td>2.526397</td>\n",
       "    </tr>\n",
       "    <tr>\n",
       "      <th>88701</th>\n",
       "      <td>20231024_500119091_23:00</td>\n",
       "      <td>2.282500</td>\n",
       "    </tr>\n",
       "    <tr>\n",
       "      <th>88702</th>\n",
       "      <td>20231024_500119091_23:20</td>\n",
       "      <td>1.761423</td>\n",
       "    </tr>\n",
       "    <tr>\n",
       "      <th>88703</th>\n",
       "      <td>20231024_500119091_23:40</td>\n",
       "      <td>1.247947</td>\n",
       "    </tr>\n",
       "  </tbody>\n",
       "</table>\n",
       "<p>88704 rows × 2 columns</p>\n",
       "</div>"
      ],
      "text/plain": [
       "                             id        sbi\n",
       "0      20231123_500101001_00:00  12.762881\n",
       "1      20231123_500101001_00:20  10.162225\n",
       "2      20231123_500101001_00:40   9.641389\n",
       "3      20231123_500101001_01:00   7.450892\n",
       "4      20231123_500101001_01:20   7.783185\n",
       "...                         ...        ...\n",
       "88699  20231024_500119091_22:20   1.725183\n",
       "88700  20231024_500119091_22:40   2.526397\n",
       "88701  20231024_500119091_23:00   2.282500\n",
       "88702  20231024_500119091_23:20   1.761423\n",
       "88703  20231024_500119091_23:40   1.247947\n",
       "\n",
       "[88704 rows x 2 columns]"
      ]
     },
     "execution_count": 28,
     "metadata": {},
     "output_type": "execute_result"
    }
   ],
   "source": [
    "sub_r = pd.read_csv('../test_result/group_validation.csv')\n",
    "sub_r"
   ]
  },
  {
   "cell_type": "code",
   "execution_count": 16,
   "metadata": {},
   "outputs": [
    {
     "data": {
      "text/plain": [
       "0.3128317247535847"
      ]
     },
     "execution_count": 16,
     "metadata": {},
     "output_type": "execute_result"
    }
   ],
   "source": [
    "validation(\"20231123\", \"20231129\", sub_r)"
   ]
  },
  {
   "cell_type": "markdown",
   "metadata": {},
   "source": [
    "### Liang"
   ]
  },
  {
   "cell_type": "code",
   "execution_count": 29,
   "metadata": {},
   "outputs": [
    {
     "data": {
      "text/html": [
       "<div>\n",
       "<style scoped>\n",
       "    .dataframe tbody tr th:only-of-type {\n",
       "        vertical-align: middle;\n",
       "    }\n",
       "\n",
       "    .dataframe tbody tr th {\n",
       "        vertical-align: top;\n",
       "    }\n",
       "\n",
       "    .dataframe thead th {\n",
       "        text-align: right;\n",
       "    }\n",
       "</style>\n",
       "<table border=\"1\" class=\"dataframe\">\n",
       "  <thead>\n",
       "    <tr style=\"text-align: right;\">\n",
       "      <th></th>\n",
       "      <th>id</th>\n",
       "      <th>sbi</th>\n",
       "    </tr>\n",
       "  </thead>\n",
       "  <tbody>\n",
       "    <tr>\n",
       "      <th>0</th>\n",
       "      <td>20231123_500119045_00:00</td>\n",
       "      <td>9.833200</td>\n",
       "    </tr>\n",
       "    <tr>\n",
       "      <th>1</th>\n",
       "      <td>20231123_500119045_00:20</td>\n",
       "      <td>9.833200</td>\n",
       "    </tr>\n",
       "    <tr>\n",
       "      <th>2</th>\n",
       "      <td>20231123_500119045_00:40</td>\n",
       "      <td>9.833200</td>\n",
       "    </tr>\n",
       "    <tr>\n",
       "      <th>3</th>\n",
       "      <td>20231123_500119045_01:00</td>\n",
       "      <td>9.833200</td>\n",
       "    </tr>\n",
       "    <tr>\n",
       "      <th>4</th>\n",
       "      <td>20231123_500119045_01:20</td>\n",
       "      <td>9.833200</td>\n",
       "    </tr>\n",
       "    <tr>\n",
       "      <th>...</th>\n",
       "      <td>...</td>\n",
       "      <td>...</td>\n",
       "    </tr>\n",
       "    <tr>\n",
       "      <th>56443</th>\n",
       "      <td>20231129_500119062_22:20</td>\n",
       "      <td>7.243104</td>\n",
       "    </tr>\n",
       "    <tr>\n",
       "      <th>56444</th>\n",
       "      <td>20231129_500119062_22:40</td>\n",
       "      <td>7.243104</td>\n",
       "    </tr>\n",
       "    <tr>\n",
       "      <th>56445</th>\n",
       "      <td>20231129_500119062_23:00</td>\n",
       "      <td>7.243104</td>\n",
       "    </tr>\n",
       "    <tr>\n",
       "      <th>56446</th>\n",
       "      <td>20231129_500119062_23:20</td>\n",
       "      <td>7.243104</td>\n",
       "    </tr>\n",
       "    <tr>\n",
       "      <th>56447</th>\n",
       "      <td>20231129_500119062_23:40</td>\n",
       "      <td>7.243104</td>\n",
       "    </tr>\n",
       "  </tbody>\n",
       "</table>\n",
       "<p>56448 rows × 2 columns</p>\n",
       "</div>"
      ],
      "text/plain": [
       "                             id       sbi\n",
       "0      20231123_500119045_00:00  9.833200\n",
       "1      20231123_500119045_00:20  9.833200\n",
       "2      20231123_500119045_00:40  9.833200\n",
       "3      20231123_500119045_01:00  9.833200\n",
       "4      20231123_500119045_01:20  9.833200\n",
       "...                         ...       ...\n",
       "56443  20231129_500119062_22:20  7.243104\n",
       "56444  20231129_500119062_22:40  7.243104\n",
       "56445  20231129_500119062_23:00  7.243104\n",
       "56446  20231129_500119062_23:20  7.243104\n",
       "56447  20231129_500119062_23:40  7.243104\n",
       "\n",
       "[56448 rows x 2 columns]"
      ]
     },
     "execution_count": 29,
     "metadata": {},
     "output_type": "execute_result"
    }
   ],
   "source": [
    "sub_l = pd.read_csv('../test_result/submission_2nd.csv')\n",
    "sub_l"
   ]
  },
  {
   "cell_type": "code",
   "execution_count": 22,
   "metadata": {},
   "outputs": [
    {
     "data": {
      "text/plain": [
       "0.7965220591020103"
      ]
     },
     "execution_count": 22,
     "metadata": {},
     "output_type": "execute_result"
    }
   ],
   "source": [
    "validation(\"20231123\", \"20231129\", sub_l)"
   ]
  },
  {
   "cell_type": "markdown",
   "metadata": {},
   "source": [
    "### MingYou"
   ]
  },
  {
   "cell_type": "code",
   "execution_count": 30,
   "metadata": {},
   "outputs": [
    {
     "data": {
      "text/html": [
       "<div>\n",
       "<style scoped>\n",
       "    .dataframe tbody tr th:only-of-type {\n",
       "        vertical-align: middle;\n",
       "    }\n",
       "\n",
       "    .dataframe tbody tr th {\n",
       "        vertical-align: top;\n",
       "    }\n",
       "\n",
       "    .dataframe thead th {\n",
       "        text-align: right;\n",
       "    }\n",
       "</style>\n",
       "<table border=\"1\" class=\"dataframe\">\n",
       "  <thead>\n",
       "    <tr style=\"text-align: right;\">\n",
       "      <th></th>\n",
       "      <th>id</th>\n",
       "      <th>sbi</th>\n",
       "    </tr>\n",
       "  </thead>\n",
       "  <tbody>\n",
       "    <tr>\n",
       "      <th>0</th>\n",
       "      <td>20231123_500101001_00:00</td>\n",
       "      <td>12.639576</td>\n",
       "    </tr>\n",
       "    <tr>\n",
       "      <th>1</th>\n",
       "      <td>20231123_500101001_00:20</td>\n",
       "      <td>12.639576</td>\n",
       "    </tr>\n",
       "    <tr>\n",
       "      <th>2</th>\n",
       "      <td>20231123_500101001_00:40</td>\n",
       "      <td>12.639576</td>\n",
       "    </tr>\n",
       "    <tr>\n",
       "      <th>3</th>\n",
       "      <td>20231123_500101001_01:00</td>\n",
       "      <td>13.961031</td>\n",
       "    </tr>\n",
       "    <tr>\n",
       "      <th>4</th>\n",
       "      <td>20231123_500101001_01:20</td>\n",
       "      <td>13.961031</td>\n",
       "    </tr>\n",
       "    <tr>\n",
       "      <th>...</th>\n",
       "      <td>...</td>\n",
       "      <td>...</td>\n",
       "    </tr>\n",
       "    <tr>\n",
       "      <th>88699</th>\n",
       "      <td>20231024_500119091_22:20</td>\n",
       "      <td>0.259925</td>\n",
       "    </tr>\n",
       "    <tr>\n",
       "      <th>88700</th>\n",
       "      <td>20231024_500119091_22:40</td>\n",
       "      <td>0.259925</td>\n",
       "    </tr>\n",
       "    <tr>\n",
       "      <th>88701</th>\n",
       "      <td>20231024_500119091_23:00</td>\n",
       "      <td>1.204378</td>\n",
       "    </tr>\n",
       "    <tr>\n",
       "      <th>88702</th>\n",
       "      <td>20231024_500119091_23:20</td>\n",
       "      <td>1.204378</td>\n",
       "    </tr>\n",
       "    <tr>\n",
       "      <th>88703</th>\n",
       "      <td>20231024_500119091_23:40</td>\n",
       "      <td>1.204378</td>\n",
       "    </tr>\n",
       "  </tbody>\n",
       "</table>\n",
       "<p>88704 rows × 2 columns</p>\n",
       "</div>"
      ],
      "text/plain": [
       "                             id        sbi\n",
       "0      20231123_500101001_00:00  12.639576\n",
       "1      20231123_500101001_00:20  12.639576\n",
       "2      20231123_500101001_00:40  12.639576\n",
       "3      20231123_500101001_01:00  13.961031\n",
       "4      20231123_500101001_01:20  13.961031\n",
       "...                         ...        ...\n",
       "88699  20231024_500119091_22:20   0.259925\n",
       "88700  20231024_500119091_22:40   0.259925\n",
       "88701  20231024_500119091_23:00   1.204378\n",
       "88702  20231024_500119091_23:20   1.204378\n",
       "88703  20231024_500119091_23:40   1.204378\n",
       "\n",
       "[88704 rows x 2 columns]"
      ]
     },
     "execution_count": 30,
     "metadata": {},
     "output_type": "execute_result"
    }
   ],
   "source": [
    "sub_m = pd.read_csv('../test_result/submit_mingyou.csv')\n",
    "sub_m"
   ]
  },
  {
   "cell_type": "code",
   "execution_count": 26,
   "metadata": {},
   "outputs": [
    {
     "data": {
      "text/plain": [
       "0.42116666637559774"
      ]
     },
     "execution_count": 26,
     "metadata": {},
     "output_type": "execute_result"
    }
   ],
   "source": [
    "validation(\"20231123\", \"20231129\", sub_m)"
   ]
  },
  {
   "cell_type": "code",
   "execution_count": 49,
   "metadata": {},
   "outputs": [
    {
     "data": {
      "text/html": [
       "<div>\n",
       "<style scoped>\n",
       "    .dataframe tbody tr th:only-of-type {\n",
       "        vertical-align: middle;\n",
       "    }\n",
       "\n",
       "    .dataframe tbody tr th {\n",
       "        vertical-align: top;\n",
       "    }\n",
       "\n",
       "    .dataframe thead th {\n",
       "        text-align: right;\n",
       "    }\n",
       "</style>\n",
       "<table border=\"1\" class=\"dataframe\">\n",
       "  <thead>\n",
       "    <tr style=\"text-align: right;\">\n",
       "      <th></th>\n",
       "      <th>id</th>\n",
       "      <th>sbi</th>\n",
       "    </tr>\n",
       "  </thead>\n",
       "  <tbody>\n",
       "    <tr>\n",
       "      <th>0</th>\n",
       "      <td>20231123_500101001_00:00</td>\n",
       "      <td>1.762254</td>\n",
       "    </tr>\n",
       "    <tr>\n",
       "      <th>1</th>\n",
       "      <td>20231123_500101001_00:20</td>\n",
       "      <td>1.762254</td>\n",
       "    </tr>\n",
       "    <tr>\n",
       "      <th>2</th>\n",
       "      <td>20231123_500101001_00:40</td>\n",
       "      <td>5.229442</td>\n",
       "    </tr>\n",
       "    <tr>\n",
       "      <th>3</th>\n",
       "      <td>20231123_500101001_01:00</td>\n",
       "      <td>5.160602</td>\n",
       "    </tr>\n",
       "    <tr>\n",
       "      <th>4</th>\n",
       "      <td>20231123_500101001_01:20</td>\n",
       "      <td>5.160602</td>\n",
       "    </tr>\n",
       "    <tr>\n",
       "      <th>...</th>\n",
       "      <td>...</td>\n",
       "      <td>...</td>\n",
       "    </tr>\n",
       "    <tr>\n",
       "      <th>88699</th>\n",
       "      <td>20231024_500119091_22:20</td>\n",
       "      <td>0.202084</td>\n",
       "    </tr>\n",
       "    <tr>\n",
       "      <th>88700</th>\n",
       "      <td>20231024_500119091_22:40</td>\n",
       "      <td>1.213326</td>\n",
       "    </tr>\n",
       "    <tr>\n",
       "      <th>88701</th>\n",
       "      <td>20231024_500119091_23:00</td>\n",
       "      <td>2.099670</td>\n",
       "    </tr>\n",
       "    <tr>\n",
       "      <th>88702</th>\n",
       "      <td>20231024_500119091_23:20</td>\n",
       "      <td>2.099670</td>\n",
       "    </tr>\n",
       "    <tr>\n",
       "      <th>88703</th>\n",
       "      <td>20231024_500119091_23:40</td>\n",
       "      <td>1.132619</td>\n",
       "    </tr>\n",
       "  </tbody>\n",
       "</table>\n",
       "<p>88704 rows × 2 columns</p>\n",
       "</div>"
      ],
      "text/plain": [
       "                             id       sbi\n",
       "0      20231123_500101001_00:00  1.762254\n",
       "1      20231123_500101001_00:20  1.762254\n",
       "2      20231123_500101001_00:40  5.229442\n",
       "3      20231123_500101001_01:00  5.160602\n",
       "4      20231123_500101001_01:20  5.160602\n",
       "...                         ...       ...\n",
       "88699  20231024_500119091_22:20  0.202084\n",
       "88700  20231024_500119091_22:40  1.213326\n",
       "88701  20231024_500119091_23:00  2.099670\n",
       "88702  20231024_500119091_23:20  2.099670\n",
       "88703  20231024_500119091_23:40  1.132619\n",
       "\n",
       "[88704 rows x 2 columns]"
      ]
     },
     "execution_count": 49,
     "metadata": {},
     "output_type": "execute_result"
    }
   ],
   "source": [
    "sub_m_tuned = pd.read_csv('../test_result/submit_xgb_tune.csv')\n",
    "sub_m_tuned"
   ]
  },
  {
   "cell_type": "code",
   "execution_count": 50,
   "metadata": {},
   "outputs": [
    {
     "data": {
      "text/plain": [
       "0.4256876193016058"
      ]
     },
     "execution_count": 50,
     "metadata": {},
     "output_type": "execute_result"
    }
   ],
   "source": [
    "validation(\"20231123\", \"20231129\", sub_m_tuned)"
   ]
  },
  {
   "cell_type": "markdown",
   "metadata": {},
   "source": [
    "### Aggregation"
   ]
  },
  {
   "cell_type": "code",
   "execution_count": 43,
   "metadata": {},
   "outputs": [
    {
     "name": "stdout",
     "output_type": "stream",
     "text": [
      "0.0 0.3699454694179275\n",
      "0.1 0.36010526918560576\n",
      "0.2 0.35171677762353926\n",
      "0.30000000000000004 0.34469985152513455\n",
      "0.4 0.3390128077234059\n",
      "0.5 0.33456638432209035\n",
      "0.6000000000000001 0.3313081929860933\n",
      "0.7000000000000001 0.3291834921761402\n",
      "0.8 0.3282780291070895\n",
      "0.9 0.3286366291335551\n"
     ]
    }
   ],
   "source": [
    "for i in np.arange(0, 1, 0.1):\n",
    "    sub1 = pd.read_csv('../submission/phase_3/agg_rf_bestfeat_phase1.csv')\n",
    "    sub2 = pd.read_csv('../submission/phase_3/agg_rf_oobsfeat_phase1.csv')\n",
    "    print(i, aggregation(\"20231204\", \"20231210\", sub1, sub2, i, 1-i))"
   ]
  },
  {
   "cell_type": "markdown",
   "metadata": {},
   "source": [
    "### current test score"
   ]
  },
  {
   "cell_type": "code",
   "execution_count": 20,
   "metadata": {},
   "outputs": [],
   "source": [
    "def current_test_score(df, end_date, end_hr, end_minute, dir):\n",
    "    x_train, features = feature_selection(df[test_stations])\n",
    "    df_train = pd.DataFrame(np.vstack(x_train), columns=features)\n",
    "    df_train = df_train[df_train[\"date\"] <= datetime(2023, 12, datetime.strptime(end_date, \"%Y%m%d\").day, end_hr, end_minute)].reset_index(drop = True)\n",
    "    df_train['id'] = df_train['date'].dt.strftime('%Y%m%d_') + df_train['station_id'] + '_' + df_train['date'].dt.strftime('%H:%M')\n",
    "    actual = {}\n",
    "    for i in range(len(df_train)):\n",
    "        actual[df_train[\"id\"][i]] = {\"sbi\": df_train[\"sbi\"][i], \"tot\": df_train[\"tot\"][i]}\n",
    "    sub_r = pd.read_csv(dir)\n",
    "    pred = sub_r.set_index('id')['sbi'].to_dict()\n",
    "    E_val = []\n",
    "    for key, val in actual.items():\n",
    "        b_it = val['sbi']\n",
    "        b_it_pred = pred[key]\n",
    "        s_i = val['tot']\n",
    "        E_val.append((abs(b_it -  b_it_pred)))\n",
    "        # E_val.append(3 * abs((b_it -  b_it_pred) / s_i) * (abs(b_it / s_i - 1 / 3) + abs(b_it / s_i - 2 / 3)))\n",
    "    return (np.average(E_val))"
   ]
  },
  {
   "cell_type": "code",
   "execution_count": 22,
   "metadata": {},
   "outputs": [
    {
     "name": "stdout",
     "output_type": "stream",
     "text": [
      "2023-12-04 00:00:00\n",
      "2023-12-05 00:00:00\n",
      "2023-12-06 00:00:00\n",
      "2023-12-07 00:00:00\n",
      "2023-12-08 00:00:00\n",
      "2023-12-09 00:00:00\n",
      "2023-12-10 00:00:00\n"
     ]
    }
   ],
   "source": [
    "df = get_train_data(\"20231204\", \"20231210\", test_stations)"
   ]
  },
  {
   "cell_type": "code",
   "execution_count": 23,
   "metadata": {},
   "outputs": [
    {
     "data": {
      "text/plain": [
       "4.025622198355378"
      ]
     },
     "execution_count": 23,
     "metadata": {},
     "output_type": "execute_result"
    }
   ],
   "source": [
    "current_test_score(df, \"20231210\", 23, 59, '../submission/phase_1/phase1_final_submission.csv')"
   ]
  },
  {
   "cell_type": "code",
   "execution_count": 21,
   "metadata": {},
   "outputs": [
    {
     "data": {
      "text/plain": [
       "3.8720727937003567"
      ]
     },
     "execution_count": 21,
     "metadata": {},
     "output_type": "execute_result"
    }
   ],
   "source": [
    "current_test_score(df, \"20231217\", 23, 59, '../submission/phase_2/phase2_final_submission.csv')"
   ]
  },
  {
   "cell_type": "code",
   "execution_count": 9,
   "metadata": {},
   "outputs": [
    {
     "data": {
      "text/plain": [
       "0.45199071070358277"
      ]
     },
     "execution_count": 9,
     "metadata": {},
     "output_type": "execute_result"
    }
   ],
   "source": [
    "current_test_score(df, \"20231224\", 23, 59, '../submission/phase_3/final_submission_82.csv')"
   ]
  },
  {
   "cell_type": "code",
   "execution_count": 10,
   "metadata": {},
   "outputs": [
    {
     "data": {
      "text/plain": [
       "0.45159971996397796"
      ]
     },
     "execution_count": 10,
     "metadata": {},
     "output_type": "execute_result"
    }
   ],
   "source": [
    "current_test_score(df, \"20231224\", 23, 59, '../submission/phase_3/final_submission_55.csv')"
   ]
  },
  {
   "cell_type": "code",
   "execution_count": 11,
   "metadata": {},
   "outputs": [
    {
     "data": {
      "text/plain": [
       "0.4735661612433877"
      ]
     },
     "execution_count": 11,
     "metadata": {},
     "output_type": "execute_result"
    }
   ],
   "source": [
    "current_test_score(df, \"20231224\", 23, 59,'../submission/phase_3/phase3_final_agg_weekday.csv')"
   ]
  },
  {
   "cell_type": "code",
   "execution_count": 12,
   "metadata": {},
   "outputs": [
    {
     "data": {
      "text/plain": [
       "0.4499189200814097"
      ]
     },
     "execution_count": 12,
     "metadata": {},
     "output_type": "execute_result"
    }
   ],
   "source": [
    "current_test_score(df, \"20231224\", 23, 59,'../submission/phase_3/phase3_final_agg_fulemp.csv')"
   ]
  }
 ],
 "metadata": {
  "kernelspec": {
   "display_name": "Python 3",
   "language": "python",
   "name": "python3"
  },
  "language_info": {
   "codemirror_mode": {
    "name": "ipython",
    "version": 3
   },
   "file_extension": ".py",
   "mimetype": "text/x-python",
   "name": "python",
   "nbconvert_exporter": "python",
   "pygments_lexer": "ipython3",
   "version": "3.11.5"
  }
 },
 "nbformat": 4,
 "nbformat_minor": 2
}
