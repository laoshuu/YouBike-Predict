{
 "cells": [
  {
   "cell_type": "code",
   "execution_count": 2,
   "metadata": {},
   "outputs": [],
   "source": [
    "from selenium import webdriver\n",
    "from selenium.webdriver.chrome.service import Service\n",
    "from selenium.webdriver.common.by import By\n",
    "from selenium.webdriver.common.keys import Keys\n",
    "from selenium.webdriver.support.ui import WebDriverWait\n",
    "from selenium.webdriver.support import expected_conditions as EC\n",
    "import time"
   ]
  },
  {
   "cell_type": "code",
   "execution_count": 3,
   "metadata": {},
   "outputs": [],
   "source": [
    "path = \"/Users/ryan/NTU/112-1/chromedriver\"\n",
    "s = Service(\"/Users/ryan/NTU/112-1/chromedriver\")\n",
    "driver = webdriver.Chrome(service=s)\n",
    "driver.get(\"https://codis.cwa.gov.tw/StationData\")"
   ]
  },
  {
   "cell_type": "code",
   "execution_count": 8,
   "metadata": {},
   "outputs": [],
   "source": [
    "# 篩選測站種類\n",
    "form_check = driver.find_elements(By.CLASS_NAME, \"form-check\")\n",
    "form_check[1].click()\n",
    "form_check[2].click()\n"
   ]
  },
  {
   "cell_type": "code",
   "execution_count": 19,
   "metadata": {},
   "outputs": [],
   "source": [
    "# 縣市\n",
    "station_area = driver.find_elements(By.CLASS_NAME, \"form-control\")\n",
    "station_area[0].find_elements(By.TAG_NAME, \"option\")[1].click()\n",
    "station_area[1].find_elements(By.TAG_NAME, \"option\")[2].click()"
   ]
  },
  {
   "cell_type": "code",
   "execution_count": 16,
   "metadata": {},
   "outputs": [],
   "source": [
    "station_area[1].find_elements(By.TAG_NAME, \"option\")[2].click()"
   ]
  },
  {
   "cell_type": "code",
   "execution_count": 23,
   "metadata": {},
   "outputs": [],
   "source": [
    "table = driver.find_element(By.CLASS_NAME, \"btn\").click()"
   ]
  },
  {
   "cell_type": "code",
   "execution_count": 107,
   "metadata": {},
   "outputs": [],
   "source": [
    "for _ in range(54):\n",
    "    download = driver.find_elements(By.CLASS_NAME, \"lightbox-tool-type-ctrl-btn\")[3]\n",
    "    download.click()\n",
    "    time.sleep(1)\n",
    "    next_btn = driver.find_elements(By.CLASS_NAME, \"datetime-tool-prev-next\")[15]\n",
    "    next_btn.click()"
   ]
  }
 ],
 "metadata": {
  "kernelspec": {
   "display_name": "Python 3",
   "language": "python",
   "name": "python3"
  },
  "language_info": {
   "codemirror_mode": {
    "name": "ipython",
    "version": 3
   },
   "file_extension": ".py",
   "mimetype": "text/x-python",
   "name": "python",
   "nbconvert_exporter": "python",
   "pygments_lexer": "ipython3",
   "version": "3.11.5"
  }
 },
 "nbformat": 4,
 "nbformat_minor": 2
}
